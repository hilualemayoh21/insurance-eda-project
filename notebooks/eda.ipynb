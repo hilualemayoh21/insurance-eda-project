{
 "cells": [
  {
   "cell_type": "code",
   "execution_count": null,
   "id": "63fce14d",
   "metadata": {
    "vscode": {
     "languageId": "plaintext"
    }
   },
   "outputs": [],
   "source": [
    "import pandas as pd\n",
    "\n",
    "# Load the pipe-separated TXT file\n",
    "df = pd.read_csv(\"../data/MachineLearningRating_v3.txt\", delimiter=\"|\")\n",
    "\n",
    "# Show the first few rows\n",
    "print(df.head())\n"
   ]
  }
 ],
 "metadata": {
  "language_info": {
   "name": "python"
  }
 },
 "nbformat": 4,
 "nbformat_minor": 5
}
